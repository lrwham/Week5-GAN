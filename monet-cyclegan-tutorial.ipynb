{
 "cells": [
  {
   "cell_type": "markdown",
   "metadata": {
    "papermill": {
     "duration": 0.013215,
     "end_time": "2020-08-29T08:27:01.892915",
     "exception": false,
     "start_time": "2020-08-29T08:27:01.879700",
     "status": "completed"
    },
    "tags": []
   },
   "source": [
    "# Introduction and Setup\n",
    "\n",
    "This notebook utilizes a CycleGAN architecture to add Monet-style to photos. For this tutorial, we will be using the TFRecord dataset. Import the following packages and change the accelerator to TPU.\n",
    "\n",
    "For more information, check out [TensorFlow](https://www.tensorflow.org/tutorials/generative/cyclegan) and [Keras](https://keras.io/examples/generative/cyclegan/) CycleGAN documentation pages."
   ]
  },
  {
   "cell_type": "code",
   "execution_count": null,
   "metadata": {},
   "outputs": [],
   "source": [
    "%pip install tensorflow"
   ]
  },
  {
   "cell_type": "code",
   "execution_count": null,
   "metadata": {
    "_cell_guid": "79c7e3d0-c299-4dcb-8224-4455121ee9b0",
    "_uuid": "d629ff2d2480ee46fbb7e2d37f6b5fab8052498a",
    "execution": {
     "iopub.execute_input": "2020-08-29T08:27:01.928826Z",
     "iopub.status.busy": "2020-08-29T08:27:01.927851Z",
     "iopub.status.idle": "2020-08-29T08:27:12.529547Z",
     "shell.execute_reply": "2020-08-29T08:27:12.528851Z"
    },
    "papermill": {
     "duration": 10.623182,
     "end_time": "2020-08-29T08:27:12.529697",
     "exception": false,
     "start_time": "2020-08-29T08:27:01.906515",
     "status": "completed"
    },
    "tags": []
   },
   "outputs": [],
   "source": [
    "import tensorflow as tf\n",
    "from tensorflow import keras\n",
    "from tensorflow.keras import layers\n",
    "\n",
    "import matplotlib.pyplot as plt\n",
    "import numpy as np"
   ]
  },
  {
   "cell_type": "markdown",
   "metadata": {
    "papermill": {
     "duration": 0.010743,
     "end_time": "2020-08-29T08:27:12.552004",
     "exception": false,
     "start_time": "2020-08-29T08:27:12.541261",
     "status": "completed"
    },
    "tags": []
   },
   "source": [
    "# Load in the data\n",
    "\n",
    "We want to keep our photo dataset and our Monet dataset separate. First, load in the filenames of the TFRecords."
   ]
  },
  {
   "cell_type": "code",
   "execution_count": null,
   "metadata": {
    "execution": {
     "iopub.execute_input": "2020-08-29T08:27:13.928234Z",
     "iopub.status.busy": "2020-08-29T08:27:13.927282Z",
     "iopub.status.idle": "2020-08-29T08:27:13.932144Z",
     "shell.execute_reply": "2020-08-29T08:27:13.931490Z"
    },
    "papermill": {
     "duration": 0.329473,
     "end_time": "2020-08-29T08:27:13.932267",
     "exception": false,
     "start_time": "2020-08-29T08:27:13.602794",
     "status": "completed"
    },
    "tags": []
   },
   "outputs": [],
   "source": [
    "MONET_FILENAMES = tf.io.gfile.glob('monet_tfrec/*')\n",
    "print('Monet TFRecord Files:', len(MONET_FILENAMES))\n",
    "\n",
    "PHOTO_FILENAMES = tf.io.gfile.glob('photo_tfrec/*')\n",
    "print('Photo TFRecord Files:', len(PHOTO_FILENAMES))"
   ]
  },
  {
   "cell_type": "markdown",
   "metadata": {
    "papermill": {
     "duration": 0.011089,
     "end_time": "2020-08-29T08:27:13.954949",
     "exception": false,
     "start_time": "2020-08-29T08:27:13.943860",
     "status": "completed"
    },
    "tags": []
   },
   "source": [
    "All the images for the competition are already sized to 256x256. As these images are RGB images, set the channel to 3. Additionally, we need to scale the images to a [-1, 1] scale. Because we are building a generative model, we don't need the labels or the image id so we'll only return the image from the TFRecord."
   ]
  },
  {
   "cell_type": "code",
   "execution_count": 4,
   "metadata": {
    "execution": {
     "iopub.execute_input": "2020-08-29T08:27:13.990842Z",
     "iopub.status.busy": "2020-08-29T08:27:13.989787Z",
     "iopub.status.idle": "2020-08-29T08:27:13.993120Z",
     "shell.execute_reply": "2020-08-29T08:27:13.992453Z"
    },
    "papermill": {
     "duration": 0.026749,
     "end_time": "2020-08-29T08:27:13.993244",
     "exception": false,
     "start_time": "2020-08-29T08:27:13.966495",
     "status": "completed"
    },
    "tags": []
   },
   "outputs": [],
   "source": [
    "IMAGE_SIZE = [256, 256]\n",
    "\n",
    "def decode_image(image):\n",
    "    image = tf.image.decode_jpeg(image, channels=3)\n",
    "    image = (tf.cast(image, tf.float32) / 127.5) - 1\n",
    "    image = tf.reshape(image, [*IMAGE_SIZE, 3])\n",
    "    return image\n",
    "\n",
    "def read_tfrecord(example):\n",
    "    tfrecord_format = {\n",
    "        \"image_name\": tf.io.FixedLenFeature([], tf.string),\n",
    "        \"image\": tf.io.FixedLenFeature([], tf.string),\n",
    "        \"target\": tf.io.FixedLenFeature([], tf.string)\n",
    "    }\n",
    "    example = tf.io.parse_single_example(example, tfrecord_format)\n",
    "    image = decode_image(example['image'])\n",
    "    return image"
   ]
  },
  {
   "cell_type": "markdown",
   "metadata": {
    "papermill": {
     "duration": 0.011183,
     "end_time": "2020-08-29T08:27:14.016170",
     "exception": false,
     "start_time": "2020-08-29T08:27:14.004987",
     "status": "completed"
    },
    "tags": []
   },
   "source": [
    "Define the function to extract the image from the files."
   ]
  },
  {
   "cell_type": "code",
   "execution_count": 5,
   "metadata": {
    "execution": {
     "iopub.execute_input": "2020-08-29T08:27:14.046298Z",
     "iopub.status.busy": "2020-08-29T08:27:14.045511Z",
     "iopub.status.idle": "2020-08-29T08:27:14.048424Z",
     "shell.execute_reply": "2020-08-29T08:27:14.048985Z"
    },
    "papermill": {
     "duration": 0.021327,
     "end_time": "2020-08-29T08:27:14.049161",
     "exception": false,
     "start_time": "2020-08-29T08:27:14.027834",
     "status": "completed"
    },
    "tags": []
   },
   "outputs": [],
   "source": [
    "def load_dataset(filenames, labeled=True, ordered=False):\n",
    "    dataset = tf.data.TFRecordDataset(filenames)\n",
    "    dataset = dataset.map(read_tfrecord)\n",
    "    return dataset"
   ]
  },
  {
   "cell_type": "markdown",
   "metadata": {
    "papermill": {
     "duration": 0.011381,
     "end_time": "2020-08-29T08:27:14.072330",
     "exception": false,
     "start_time": "2020-08-29T08:27:14.060949",
     "status": "completed"
    },
    "tags": []
   },
   "source": [
    "Let's load in our datasets."
   ]
  },
  {
   "cell_type": "code",
   "execution_count": null,
   "metadata": {
    "execution": {
     "iopub.execute_input": "2020-08-29T08:27:14.105277Z",
     "iopub.status.busy": "2020-08-29T08:27:14.103723Z",
     "iopub.status.idle": "2020-08-29T08:27:14.417232Z",
     "shell.execute_reply": "2020-08-29T08:27:14.416589Z"
    },
    "papermill": {
     "duration": 0.333224,
     "end_time": "2020-08-29T08:27:14.417363",
     "exception": false,
     "start_time": "2020-08-29T08:27:14.084139",
     "status": "completed"
    },
    "tags": []
   },
   "outputs": [],
   "source": [
    "monet_ds = load_dataset(MONET_FILENAMES, labeled=True).batch(1)\n",
    "photo_ds = load_dataset(PHOTO_FILENAMES, labeled=True).batch(1)"
   ]
  },
  {
   "cell_type": "code",
   "execution_count": null,
   "metadata": {
    "execution": {
     "iopub.execute_input": "2020-08-29T08:27:14.447147Z",
     "iopub.status.busy": "2020-08-29T08:27:14.446399Z",
     "iopub.status.idle": "2020-08-29T08:27:15.757141Z",
     "shell.execute_reply": "2020-08-29T08:27:15.756336Z"
    },
    "papermill": {
     "duration": 1.328135,
     "end_time": "2020-08-29T08:27:15.757265",
     "exception": false,
     "start_time": "2020-08-29T08:27:14.429130",
     "status": "completed"
    },
    "tags": []
   },
   "outputs": [],
   "source": [
    "example_monet = next(iter(monet_ds))\n",
    "example_photo = next(iter(photo_ds))"
   ]
  },
  {
   "cell_type": "markdown",
   "metadata": {
    "papermill": {
     "duration": 0.011344,
     "end_time": "2020-08-29T08:27:15.780434",
     "exception": false,
     "start_time": "2020-08-29T08:27:15.769090",
     "status": "completed"
    },
    "tags": []
   },
   "source": [
    "Let's  visualize a photo example and a Monet example."
   ]
  },
  {
   "cell_type": "code",
   "execution_count": null,
   "metadata": {
    "execution": {
     "iopub.execute_input": "2020-08-29T08:27:15.811259Z",
     "iopub.status.busy": "2020-08-29T08:27:15.810410Z",
     "iopub.status.idle": "2020-08-29T08:27:16.258921Z",
     "shell.execute_reply": "2020-08-29T08:27:16.259502Z"
    },
    "papermill": {
     "duration": 0.467428,
     "end_time": "2020-08-29T08:27:16.259679",
     "exception": false,
     "start_time": "2020-08-29T08:27:15.792251",
     "status": "completed"
    },
    "tags": []
   },
   "outputs": [],
   "source": [
    "plt.subplot(121)\n",
    "plt.title('Photo')\n",
    "plt.imshow(example_photo[0] * 0.5 + 0.5)\n",
    "\n",
    "plt.subplot(122)\n",
    "plt.title('Monet')\n",
    "plt.imshow(example_monet[0] * 0.5 + 0.5)"
   ]
  },
  {
   "cell_type": "markdown",
   "metadata": {
    "papermill": {
     "duration": 0.012983,
     "end_time": "2020-08-29T08:27:16.285923",
     "exception": false,
     "start_time": "2020-08-29T08:27:16.272940",
     "status": "completed"
    },
    "tags": []
   },
   "source": [
    "# Build the generator\n",
    "\n",
    "We'll be using a UNET architecture for our CycleGAN. To build our generator, let's first define our `downsample` and `upsample` methods.\n",
    "\n",
    "The `downsample`, as the name suggests, reduces the 2D dimensions, the width and height, of the image by the stride. The stride is the length of the step the filter takes. Since the stride is 2, the filter is applied to every other pixel, hence reducing the weight and height by 2.\n",
    "\n",
    "We'll be using an instance normalization instead of batch normalization. As the instance normalization is not standard in the TensorFlow API, we'll use the layer from TensorFlow Add-ons."
   ]
  },
  {
   "cell_type": "code",
   "execution_count": 9,
   "metadata": {
    "execution": {
     "iopub.execute_input": "2020-08-29T08:27:16.323098Z",
     "iopub.status.busy": "2020-08-29T08:27:16.322049Z",
     "iopub.status.idle": "2020-08-29T08:27:16.325579Z",
     "shell.execute_reply": "2020-08-29T08:27:16.324929Z"
    },
    "papermill": {
     "duration": 0.026742,
     "end_time": "2020-08-29T08:27:16.325757",
     "exception": false,
     "start_time": "2020-08-29T08:27:16.299015",
     "status": "completed"
    },
    "tags": []
   },
   "outputs": [],
   "source": [
    "OUTPUT_CHANNELS = 3\n",
    "\n",
    "def downsample(filters, size, apply_instancenorm=True):\n",
    "    initializer = tf.random_normal_initializer(0., 0.02)\n",
    "    gamma_init = keras.initializers.RandomNormal(mean=0.0, stddev=0.02)\n",
    "\n",
    "    result = keras.Sequential()\n",
    "    result.add(layers.Conv2D(filters, size, strides=2, padding='same',\n",
    "                             kernel_initializer=initializer, use_bias=False))\n",
    "\n",
    "    if apply_instancenorm:\n",
    "        result.add(layers.GroupNormalization(groups=-1, axis=-1))\n",
    "\n",
    "    result.add(layers.LeakyReLU())\n",
    "\n",
    "    return result"
   ]
  },
  {
   "cell_type": "markdown",
   "metadata": {
    "papermill": {
     "duration": 0.012819,
     "end_time": "2020-08-29T08:27:16.352056",
     "exception": false,
     "start_time": "2020-08-29T08:27:16.339237",
     "status": "completed"
    },
    "tags": []
   },
   "source": [
    "`Upsample` does the opposite of downsample and increases the dimensions of the of the image. `Conv2DTranspose` does basically the opposite of a `Conv2D` layer."
   ]
  },
  {
   "cell_type": "code",
   "execution_count": 10,
   "metadata": {
    "execution": {
     "iopub.execute_input": "2020-08-29T08:27:16.388875Z",
     "iopub.status.busy": "2020-08-29T08:27:16.388093Z",
     "iopub.status.idle": "2020-08-29T08:27:16.391770Z",
     "shell.execute_reply": "2020-08-29T08:27:16.390974Z"
    },
    "papermill": {
     "duration": 0.026678,
     "end_time": "2020-08-29T08:27:16.391892",
     "exception": false,
     "start_time": "2020-08-29T08:27:16.365214",
     "status": "completed"
    },
    "tags": []
   },
   "outputs": [],
   "source": [
    "def upsample(filters, size, apply_dropout=False):\n",
    "    initializer = tf.random_normal_initializer(0., 0.02)\n",
    "    gamma_init = keras.initializers.RandomNormal(mean=0.0, stddev=0.02)\n",
    "\n",
    "    result = keras.Sequential()\n",
    "    result.add(layers.Conv2DTranspose(filters, size, strides=2,\n",
    "                                      padding='same',\n",
    "                                      kernel_initializer=initializer,\n",
    "                                      use_bias=False))\n",
    "\n",
    "    result.add(layers.GroupNormalization(groups=-1, axis=-1))\n",
    "\n",
    "    if apply_dropout:\n",
    "        result.add(layers.Dropout(0.5))\n",
    "\n",
    "    result.add(layers.ReLU())\n",
    "\n",
    "    return result"
   ]
  },
  {
   "cell_type": "markdown",
   "metadata": {
    "papermill": {
     "duration": 0.012895,
     "end_time": "2020-08-29T08:27:16.418061",
     "exception": false,
     "start_time": "2020-08-29T08:27:16.405166",
     "status": "completed"
    },
    "tags": []
   },
   "source": [
    "Let's build our generator!\n",
    "\n",
    "The generator first downsamples the input image and then upsample while establishing long skip connections. Skip connections are a way to help bypass the vanishing gradient problem by concatenating the output of a layer to multiple layers instead of only one. Here we concatenate the output of the downsample layer to the upsample layer in a symmetrical fashion."
   ]
  },
  {
   "cell_type": "code",
   "execution_count": 11,
   "metadata": {
    "execution": {
     "iopub.execute_input": "2020-08-29T08:27:16.462513Z",
     "iopub.status.busy": "2020-08-29T08:27:16.461714Z",
     "iopub.status.idle": "2020-08-29T08:27:16.465151Z",
     "shell.execute_reply": "2020-08-29T08:27:16.464516Z"
    },
    "papermill": {
     "duration": 0.033907,
     "end_time": "2020-08-29T08:27:16.465273",
     "exception": false,
     "start_time": "2020-08-29T08:27:16.431366",
     "status": "completed"
    },
    "tags": []
   },
   "outputs": [],
   "source": [
    "def Generator():\n",
    "    inputs = layers.Input(shape=[256,256,3])\n",
    "\n",
    "    # bs = batch size\n",
    "    down_stack = [\n",
    "        downsample(64, 4, apply_instancenorm=False), # (bs, 128, 128, 64)\n",
    "        downsample(128, 4), # (bs, 64, 64, 128)\n",
    "        downsample(256, 4), # (bs, 32, 32, 256)\n",
    "        downsample(512, 4), # (bs, 16, 16, 512)\n",
    "        downsample(512, 4), # (bs, 8, 8, 512)\n",
    "        downsample(512, 4), # (bs, 4, 4, 512)\n",
    "        downsample(512, 4), # (bs, 2, 2, 512)\n",
    "        downsample(512, 4), # (bs, 1, 1, 512)\n",
    "    ]\n",
    "\n",
    "    up_stack = [\n",
    "        upsample(512, 4, apply_dropout=True), # (bs, 2, 2, 1024)\n",
    "        upsample(512, 4, apply_dropout=True), # (bs, 4, 4, 1024)\n",
    "        upsample(512, 4, apply_dropout=True), # (bs, 8, 8, 1024)\n",
    "        upsample(512, 4), # (bs, 16, 16, 1024)\n",
    "        upsample(256, 4), # (bs, 32, 32, 512)\n",
    "        upsample(128, 4), # (bs, 64, 64, 256)\n",
    "        upsample(64, 4), # (bs, 128, 128, 128)\n",
    "    ]\n",
    "\n",
    "    initializer = tf.random_normal_initializer(0., 0.02)\n",
    "    last = layers.Conv2DTranspose(OUTPUT_CHANNELS, 4,\n",
    "                                  strides=2,\n",
    "                                  padding='same',\n",
    "                                  kernel_initializer=initializer,\n",
    "                                  activation='tanh') # (bs, 256, 256, 3)\n",
    "\n",
    "    x = inputs\n",
    "\n",
    "    # Downsampling through the model\n",
    "    skips = []\n",
    "    for down in down_stack:\n",
    "        x = down(x)\n",
    "        skips.append(x)\n",
    "\n",
    "    skips = reversed(skips[:-1])\n",
    "\n",
    "    # Upsampling and establishing the skip connections\n",
    "    for up, skip in zip(up_stack, skips):\n",
    "        x = up(x)\n",
    "        x = layers.Concatenate()([x, skip])\n",
    "\n",
    "    x = last(x)\n",
    "\n",
    "    return keras.Model(inputs=inputs, outputs=x)"
   ]
  },
  {
   "cell_type": "markdown",
   "metadata": {
    "papermill": {
     "duration": 0.012989,
     "end_time": "2020-08-29T08:27:16.491503",
     "exception": false,
     "start_time": "2020-08-29T08:27:16.478514",
     "status": "completed"
    },
    "tags": []
   },
   "source": [
    "# Build the discriminator\n",
    "\n",
    "The discriminator takes in the input image and classifies it as real or fake (generated). Instead of outputing a single node, the discriminator outputs a smaller 2D image with higher pixel values indicating a real classification and lower values indicating a fake classification."
   ]
  },
  {
   "cell_type": "code",
   "execution_count": 12,
   "metadata": {
    "execution": {
     "iopub.execute_input": "2020-08-29T08:27:16.532441Z",
     "iopub.status.busy": "2020-08-29T08:27:16.531535Z",
     "iopub.status.idle": "2020-08-29T08:27:16.534854Z",
     "shell.execute_reply": "2020-08-29T08:27:16.534266Z"
    },
    "papermill": {
     "duration": 0.030335,
     "end_time": "2020-08-29T08:27:16.534977",
     "exception": false,
     "start_time": "2020-08-29T08:27:16.504642",
     "status": "completed"
    },
    "tags": []
   },
   "outputs": [],
   "source": [
    "def Discriminator():\n",
    "    initializer = tf.random_normal_initializer(0., 0.02)\n",
    "    gamma_init = keras.initializers.RandomNormal(mean=0.0, stddev=0.02)\n",
    "\n",
    "    inp = layers.Input(shape=[256, 256, 3], name='input_image')\n",
    "\n",
    "    x = inp\n",
    "\n",
    "    down1 = downsample(64, 4, False)(x) # (bs, 128, 128, 64)\n",
    "    down2 = downsample(128, 4)(down1) # (bs, 64, 64, 128)\n",
    "    down3 = downsample(256, 4)(down2) # (bs, 32, 32, 256)\n",
    "\n",
    "    zero_pad1 = layers.ZeroPadding2D()(down3) # (bs, 34, 34, 256)\n",
    "    conv = layers.Conv2D(512, 4, strides=1,\n",
    "                         kernel_initializer=initializer,\n",
    "                         use_bias=False)(zero_pad1) # (bs, 31, 31, 512)\n",
    "\n",
    "    norm1 = layers.GroupNormalization(groups=-1, axis=-1)(conv)\n",
    "\n",
    "    leaky_relu = layers.LeakyReLU()(norm1)\n",
    "\n",
    "    zero_pad2 = layers.ZeroPadding2D()(leaky_relu) # (bs, 33, 33, 512)\n",
    "\n",
    "    last = layers.Conv2D(1, 4, strides=1,\n",
    "                         kernel_initializer=initializer)(zero_pad2) # (bs, 30, 30, 1)\n",
    "\n",
    "    return tf.keras.Model(inputs=inp, outputs=last)"
   ]
  },
  {
   "cell_type": "code",
   "execution_count": 13,
   "metadata": {
    "execution": {
     "iopub.execute_input": "2020-08-29T08:27:16.568360Z",
     "iopub.status.busy": "2020-08-29T08:27:16.567608Z",
     "iopub.status.idle": "2020-08-29T08:27:26.527227Z",
     "shell.execute_reply": "2020-08-29T08:27:26.526444Z"
    },
    "papermill": {
     "duration": 9.978841,
     "end_time": "2020-08-29T08:27:26.527361",
     "exception": false,
     "start_time": "2020-08-29T08:27:16.548520",
     "status": "completed"
    },
    "tags": []
   },
   "outputs": [],
   "source": [
    "\n",
    "monet_generator = Generator() # transforms photos to Monet-esque paintings\n",
    "photo_generator = Generator() # transforms Monet paintings to be more like photos\n",
    "\n",
    "monet_discriminator = Discriminator() # differentiates real Monet paintings and generated Monet paintings\n",
    "photo_discriminator = Discriminator() # differentiates real photos and generated photos"
   ]
  },
  {
   "cell_type": "markdown",
   "metadata": {
    "papermill": {
     "duration": 0.013578,
     "end_time": "2020-08-29T08:27:26.554960",
     "exception": false,
     "start_time": "2020-08-29T08:27:26.541382",
     "status": "completed"
    },
    "tags": []
   },
   "source": [
    "Since our generators are not trained yet, the generated Monet-esque photo does not show what is expected at this point."
   ]
  },
  {
   "cell_type": "code",
   "execution_count": null,
   "metadata": {
    "execution": {
     "iopub.execute_input": "2020-08-29T08:27:26.593292Z",
     "iopub.status.busy": "2020-08-29T08:27:26.592494Z",
     "iopub.status.idle": "2020-08-29T08:27:27.289458Z",
     "shell.execute_reply": "2020-08-29T08:27:27.290084Z"
    },
    "papermill": {
     "duration": 0.721727,
     "end_time": "2020-08-29T08:27:27.290242",
     "exception": false,
     "start_time": "2020-08-29T08:27:26.568515",
     "status": "completed"
    },
    "tags": []
   },
   "outputs": [],
   "source": [
    "to_monet = monet_generator(example_photo)\n",
    "\n",
    "plt.subplot(1, 2, 1)\n",
    "plt.title(\"Original Photo\")\n",
    "plt.imshow(example_photo[0] * 0.5 + 0.5)\n",
    "\n",
    "plt.subplot(1, 2, 2)\n",
    "plt.title(\"Monet-esque Photo\")\n",
    "plt.imshow(to_monet[0] * 0.5 + 0.5)\n",
    "plt.show()"
   ]
  },
  {
   "cell_type": "markdown",
   "metadata": {
    "papermill": {
     "duration": 0.013939,
     "end_time": "2020-08-29T08:27:27.319522",
     "exception": false,
     "start_time": "2020-08-29T08:27:27.305583",
     "status": "completed"
    },
    "tags": []
   },
   "source": [
    "# Build the CycleGAN model\n",
    "\n",
    "We will subclass a `tf.keras.Model` so that we can run `fit()` later to train our model. During the training step, the model transforms a photo to a Monet painting and then back to a photo. The difference between the original photo and the twice-transformed photo is the cycle-consistency loss. We want the original photo and the twice-transformed photo to be similar to one another.\n",
    "\n",
    "The losses are defined in the next section."
   ]
  },
  {
   "cell_type": "code",
   "execution_count": 15,
   "metadata": {
    "execution": {
     "iopub.execute_input": "2020-08-29T08:27:27.381412Z",
     "iopub.status.busy": "2020-08-29T08:27:27.380367Z",
     "iopub.status.idle": "2020-08-29T08:27:27.382858Z",
     "shell.execute_reply": "2020-08-29T08:27:27.383391Z"
    },
    "papermill": {
     "duration": 0.049519,
     "end_time": "2020-08-29T08:27:27.383553",
     "exception": false,
     "start_time": "2020-08-29T08:27:27.334034",
     "status": "completed"
    },
    "tags": []
   },
   "outputs": [],
   "source": [
    "class CycleGan(keras.Model):\n",
    "    def __init__(\n",
    "        self,\n",
    "        monet_generator,\n",
    "        photo_generator,\n",
    "        monet_discriminator,\n",
    "        photo_discriminator,\n",
    "        lambda_cycle=10,\n",
    "    ):\n",
    "        super(CycleGan, self).__init__()\n",
    "        self.m_gen = monet_generator\n",
    "        self.p_gen = photo_generator\n",
    "        self.m_disc = monet_discriminator\n",
    "        self.p_disc = photo_discriminator\n",
    "        self.lambda_cycle = lambda_cycle\n",
    "        \n",
    "    def compile(\n",
    "        self,\n",
    "        m_gen_optimizer,\n",
    "        p_gen_optimizer,\n",
    "        m_disc_optimizer,\n",
    "        p_disc_optimizer,\n",
    "        gen_loss_fn,\n",
    "        disc_loss_fn,\n",
    "        cycle_loss_fn,\n",
    "        identity_loss_fn\n",
    "    ):\n",
    "        super(CycleGan, self).compile()\n",
    "        self.m_gen_optimizer = m_gen_optimizer\n",
    "        self.p_gen_optimizer = p_gen_optimizer\n",
    "        self.m_disc_optimizer = m_disc_optimizer\n",
    "        self.p_disc_optimizer = p_disc_optimizer\n",
    "        self.gen_loss_fn = gen_loss_fn\n",
    "        self.disc_loss_fn = disc_loss_fn\n",
    "        self.cycle_loss_fn = cycle_loss_fn\n",
    "        self.identity_loss_fn = identity_loss_fn\n",
    "        \n",
    "    def train_step(self, batch_data):\n",
    "        real_monet, real_photo = batch_data\n",
    "        \n",
    "        with tf.GradientTape(persistent=True) as tape:\n",
    "            # photo to monet back to photo\n",
    "            fake_monet = self.m_gen(real_photo, training=True)\n",
    "            cycled_photo = self.p_gen(fake_monet, training=True)\n",
    "\n",
    "            # monet to photo back to monet\n",
    "            fake_photo = self.p_gen(real_monet, training=True)\n",
    "            cycled_monet = self.m_gen(fake_photo, training=True)\n",
    "\n",
    "            # generating itself\n",
    "            same_monet = self.m_gen(real_monet, training=True)\n",
    "            same_photo = self.p_gen(real_photo, training=True)\n",
    "\n",
    "            # discriminator used to check, inputing real images\n",
    "            disc_real_monet = self.m_disc(real_monet, training=True)\n",
    "            disc_real_photo = self.p_disc(real_photo, training=True)\n",
    "\n",
    "            # discriminator used to check, inputing fake images\n",
    "            disc_fake_monet = self.m_disc(fake_monet, training=True)\n",
    "            disc_fake_photo = self.p_disc(fake_photo, training=True)\n",
    "\n",
    "            # evaluates generator loss\n",
    "            monet_gen_loss = self.gen_loss_fn(disc_fake_monet)\n",
    "            photo_gen_loss = self.gen_loss_fn(disc_fake_photo)\n",
    "\n",
    "            # evaluates total cycle consistency loss\n",
    "            total_cycle_loss = self.cycle_loss_fn(real_monet, cycled_monet, self.lambda_cycle) + self.cycle_loss_fn(real_photo, cycled_photo, self.lambda_cycle)\n",
    "\n",
    "            # evaluates total generator loss\n",
    "            total_monet_gen_loss = monet_gen_loss + total_cycle_loss + self.identity_loss_fn(real_monet, same_monet, self.lambda_cycle)\n",
    "            total_photo_gen_loss = photo_gen_loss + total_cycle_loss + self.identity_loss_fn(real_photo, same_photo, self.lambda_cycle)\n",
    "\n",
    "            # evaluates discriminator loss\n",
    "            monet_disc_loss = self.disc_loss_fn(disc_real_monet, disc_fake_monet)\n",
    "            photo_disc_loss = self.disc_loss_fn(disc_real_photo, disc_fake_photo)\n",
    "\n",
    "        # Calculate the gradients for generator and discriminator\n",
    "        monet_generator_gradients = tape.gradient(total_monet_gen_loss,\n",
    "                                                  self.m_gen.trainable_variables)\n",
    "        photo_generator_gradients = tape.gradient(total_photo_gen_loss,\n",
    "                                                  self.p_gen.trainable_variables)\n",
    "\n",
    "        monet_discriminator_gradients = tape.gradient(monet_disc_loss,\n",
    "                                                      self.m_disc.trainable_variables)\n",
    "        photo_discriminator_gradients = tape.gradient(photo_disc_loss,\n",
    "                                                      self.p_disc.trainable_variables)\n",
    "\n",
    "        # Apply the gradients to the optimizer\n",
    "        self.m_gen_optimizer.apply_gradients(zip(monet_generator_gradients,\n",
    "                                                 self.m_gen.trainable_variables))\n",
    "\n",
    "        self.p_gen_optimizer.apply_gradients(zip(photo_generator_gradients,\n",
    "                                                 self.p_gen.trainable_variables))\n",
    "\n",
    "        self.m_disc_optimizer.apply_gradients(zip(monet_discriminator_gradients,\n",
    "                                                  self.m_disc.trainable_variables))\n",
    "\n",
    "        self.p_disc_optimizer.apply_gradients(zip(photo_discriminator_gradients,\n",
    "                                                  self.p_disc.trainable_variables))\n",
    "        \n",
    "        return {\n",
    "            \"monet_gen_loss\": total_monet_gen_loss,\n",
    "            \"photo_gen_loss\": total_photo_gen_loss,\n",
    "            \"monet_disc_loss\": monet_disc_loss,\n",
    "            \"photo_disc_loss\": photo_disc_loss\n",
    "        }"
   ]
  },
  {
   "cell_type": "markdown",
   "metadata": {
    "papermill": {
     "duration": 0.01417,
     "end_time": "2020-08-29T08:27:27.412256",
     "exception": false,
     "start_time": "2020-08-29T08:27:27.398086",
     "status": "completed"
    },
    "tags": []
   },
   "source": [
    "# Define loss functions\n",
    "\n",
    "The discriminator loss function below compares real images to a matrix of 1s and fake images to a matrix of 0s. The perfect discriminator will output all 1s for real images and all 0s for fake images. The discriminator loss outputs the average of the real and generated loss."
   ]
  },
  {
   "cell_type": "code",
   "execution_count": 16,
   "metadata": {
    "execution": {
     "iopub.execute_input": "2020-08-29T08:27:27.450634Z",
     "iopub.status.busy": "2020-08-29T08:27:27.449541Z",
     "iopub.status.idle": "2020-08-29T08:27:27.452601Z",
     "shell.execute_reply": "2020-08-29T08:27:27.453213Z"
    },
    "papermill": {
     "duration": 0.02693,
     "end_time": "2020-08-29T08:27:27.453371",
     "exception": false,
     "start_time": "2020-08-29T08:27:27.426441",
     "status": "completed"
    },
    "tags": []
   },
   "outputs": [],
   "source": [
    "\n",
    "def discriminator_loss(real, generated):\n",
    "    real_loss = tf.keras.losses.BinaryCrossentropy(from_logits=True, reduction=tf.keras.losses.Reduction.NONE)(tf.ones_like(real), real)\n",
    "\n",
    "    generated_loss = tf.keras.losses.BinaryCrossentropy(from_logits=True, reduction=tf.keras.losses.Reduction.NONE)(tf.zeros_like(generated), generated)\n",
    "\n",
    "    total_disc_loss = real_loss + generated_loss\n",
    "\n",
    "    return total_disc_loss * 0.5"
   ]
  },
  {
   "cell_type": "markdown",
   "metadata": {
    "papermill": {
     "duration": 0.014183,
     "end_time": "2020-08-29T08:27:27.482436",
     "exception": false,
     "start_time": "2020-08-29T08:27:27.468253",
     "status": "completed"
    },
    "tags": []
   },
   "source": [
    "The generator wants to fool the discriminator into thinking the generated image is real. The perfect generator will have the discriminator output only 1s. Thus, it compares the generated image to a matrix of 1s to find the loss."
   ]
  },
  {
   "cell_type": "code",
   "execution_count": 17,
   "metadata": {
    "execution": {
     "iopub.execute_input": "2020-08-29T08:27:27.519607Z",
     "iopub.status.busy": "2020-08-29T08:27:27.518561Z",
     "iopub.status.idle": "2020-08-29T08:27:27.521897Z",
     "shell.execute_reply": "2020-08-29T08:27:27.521139Z"
    },
    "papermill": {
     "duration": 0.025103,
     "end_time": "2020-08-29T08:27:27.522023",
     "exception": false,
     "start_time": "2020-08-29T08:27:27.496920",
     "status": "completed"
    },
    "tags": []
   },
   "outputs": [],
   "source": [
    "def generator_loss(generated):\n",
    "    return tf.keras.losses.BinaryCrossentropy(from_logits=True, reduction=tf.keras.losses.Reduction.NONE)(tf.ones_like(generated), generated)"
   ]
  },
  {
   "cell_type": "markdown",
   "metadata": {
    "papermill": {
     "duration": 0.014145,
     "end_time": "2020-08-29T08:27:27.550631",
     "exception": false,
     "start_time": "2020-08-29T08:27:27.536486",
     "status": "completed"
    },
    "tags": []
   },
   "source": [
    "We want our original photo and the twice transformed photo to be similar to one another. Thus, we can calculate the cycle consistency loss be finding the average of their difference."
   ]
  },
  {
   "cell_type": "code",
   "execution_count": 18,
   "metadata": {
    "execution": {
     "iopub.execute_input": "2020-08-29T08:27:27.586626Z",
     "iopub.status.busy": "2020-08-29T08:27:27.585608Z",
     "iopub.status.idle": "2020-08-29T08:27:27.588341Z",
     "shell.execute_reply": "2020-08-29T08:27:27.589010Z"
    },
    "papermill": {
     "duration": 0.023987,
     "end_time": "2020-08-29T08:27:27.589167",
     "exception": false,
     "start_time": "2020-08-29T08:27:27.565180",
     "status": "completed"
    },
    "tags": []
   },
   "outputs": [],
   "source": [
    "def calc_cycle_loss(real_image, cycled_image, LAMBDA):\n",
    "    loss1 = tf.reduce_mean(tf.abs(real_image - cycled_image))\n",
    "\n",
    "    return LAMBDA * loss1"
   ]
  },
  {
   "cell_type": "markdown",
   "metadata": {
    "papermill": {
     "duration": 0.014192,
     "end_time": "2020-08-29T08:27:27.617994",
     "exception": false,
     "start_time": "2020-08-29T08:27:27.603802",
     "status": "completed"
    },
    "tags": []
   },
   "source": [
    "The identity loss compares the image with its generator (i.e. photo with photo generator). If given a photo as input, we want it to generate the same image as the image was originally a photo. The identity loss compares the input with the output of the generator."
   ]
  },
  {
   "cell_type": "code",
   "execution_count": 19,
   "metadata": {
    "execution": {
     "iopub.execute_input": "2020-08-29T08:27:27.654107Z",
     "iopub.status.busy": "2020-08-29T08:27:27.653191Z",
     "iopub.status.idle": "2020-08-29T08:27:27.655732Z",
     "shell.execute_reply": "2020-08-29T08:27:27.656297Z"
    },
    "papermill": {
     "duration": 0.024098,
     "end_time": "2020-08-29T08:27:27.656443",
     "exception": false,
     "start_time": "2020-08-29T08:27:27.632345",
     "status": "completed"
    },
    "tags": []
   },
   "outputs": [],
   "source": [
    "def identity_loss(real_image, same_image, LAMBDA):\n",
    "    loss = tf.reduce_mean(tf.abs(real_image - same_image))\n",
    "    return LAMBDA * 0.5 * loss"
   ]
  },
  {
   "cell_type": "markdown",
   "metadata": {
    "papermill": {
     "duration": 0.014013,
     "end_time": "2020-08-29T08:27:27.685063",
     "exception": false,
     "start_time": "2020-08-29T08:27:27.671050",
     "status": "completed"
    },
    "tags": []
   },
   "source": [
    "# Train the CycleGAN\n",
    "\n",
    "Let's compile our model. Since we used `tf.keras.Model` to build our CycleGAN, we can just ude the `fit` function to train our model."
   ]
  },
  {
   "cell_type": "code",
   "execution_count": 20,
   "metadata": {
    "execution": {
     "iopub.execute_input": "2020-08-29T08:27:27.722632Z",
     "iopub.status.busy": "2020-08-29T08:27:27.721700Z",
     "iopub.status.idle": "2020-08-29T08:27:27.724727Z",
     "shell.execute_reply": "2020-08-29T08:27:27.724130Z"
    },
    "papermill": {
     "duration": 0.025521,
     "end_time": "2020-08-29T08:27:27.724855",
     "exception": false,
     "start_time": "2020-08-29T08:27:27.699334",
     "status": "completed"
    },
    "tags": []
   },
   "outputs": [],
   "source": [
    "\n",
    "monet_generator_optimizer = tf.keras.optimizers.Adam(2e-4, beta_1=0.5)\n",
    "photo_generator_optimizer = tf.keras.optimizers.Adam(2e-4, beta_1=0.5)\n",
    "\n",
    "monet_discriminator_optimizer = tf.keras.optimizers.Adam(2e-4, beta_1=0.5)\n",
    "photo_discriminator_optimizer = tf.keras.optimizers.Adam(2e-4, beta_1=0.5)"
   ]
  },
  {
   "cell_type": "code",
   "execution_count": 21,
   "metadata": {
    "execution": {
     "iopub.execute_input": "2020-08-29T08:27:27.769820Z",
     "iopub.status.busy": "2020-08-29T08:27:27.769042Z",
     "iopub.status.idle": "2020-08-29T08:27:27.797882Z",
     "shell.execute_reply": "2020-08-29T08:27:27.797025Z"
    },
    "papermill": {
     "duration": 0.058411,
     "end_time": "2020-08-29T08:27:27.798037",
     "exception": false,
     "start_time": "2020-08-29T08:27:27.739626",
     "status": "completed"
    },
    "tags": []
   },
   "outputs": [],
   "source": [
    "cycle_gan_model = CycleGan(\n",
    "    monet_generator, photo_generator, monet_discriminator, photo_discriminator\n",
    ")\n",
    "\n",
    "cycle_gan_model.compile(\n",
    "    m_gen_optimizer = monet_generator_optimizer,\n",
    "    p_gen_optimizer = photo_generator_optimizer,\n",
    "    m_disc_optimizer = monet_discriminator_optimizer,\n",
    "    p_disc_optimizer = photo_discriminator_optimizer,\n",
    "    gen_loss_fn = generator_loss,\n",
    "    disc_loss_fn = discriminator_loss,\n",
    "    cycle_loss_fn = calc_cycle_loss,\n",
    "    identity_loss_fn = identity_loss\n",
    ")"
   ]
  },
  {
   "cell_type": "code",
   "execution_count": null,
   "metadata": {
    "execution": {
     "iopub.execute_input": "2020-08-29T08:27:27.842380Z",
     "iopub.status.busy": "2020-08-29T08:27:27.836985Z",
     "iopub.status.idle": "2020-08-29T08:45:16.338257Z",
     "shell.execute_reply": "2020-08-29T08:45:16.337486Z"
    },
    "papermill": {
     "duration": 1068.52287,
     "end_time": "2020-08-29T08:45:16.338383",
     "exception": false,
     "start_time": "2020-08-29T08:27:27.815513",
     "status": "completed"
    },
    "tags": []
   },
   "outputs": [],
   "source": [
    "cycle_gan_model.fit(\n",
    "    tf.data.Dataset.zip((monet_ds, photo_ds)),\n",
    "    epochs=25\n",
    ")"
   ]
  },
  {
   "cell_type": "markdown",
   "metadata": {
    "papermill": {
     "duration": 0.520583,
     "end_time": "2020-08-29T08:45:17.377538",
     "exception": false,
     "start_time": "2020-08-29T08:45:16.856955",
     "status": "completed"
    },
    "tags": []
   },
   "source": [
    "# Visualize our Monet-esque photos"
   ]
  },
  {
   "cell_type": "code",
   "execution_count": null,
   "metadata": {
    "execution": {
     "iopub.execute_input": "2020-08-29T08:45:18.486444Z",
     "iopub.status.busy": "2020-08-29T08:45:18.485675Z",
     "iopub.status.idle": "2020-08-29T08:45:20.822875Z",
     "shell.execute_reply": "2020-08-29T08:45:20.823454Z"
    },
    "papermill": {
     "duration": 2.873747,
     "end_time": "2020-08-29T08:45:20.823619",
     "exception": false,
     "start_time": "2020-08-29T08:45:17.949872",
     "status": "completed"
    },
    "tags": []
   },
   "outputs": [],
   "source": [
    "_, ax = plt.subplots(5, 2, figsize=(12, 12))\n",
    "for i, img in enumerate(photo_ds.take(5)):\n",
    "    prediction = monet_generator(img, training=False)[0].numpy()\n",
    "    prediction = (prediction * 127.5 + 127.5).astype(np.uint8)\n",
    "    img = (img[0] * 127.5 + 127.5).numpy().astype(np.uint8)\n",
    "\n",
    "    ax[i, 0].imshow(img)\n",
    "    ax[i, 1].imshow(prediction)\n",
    "    ax[i, 0].set_title(\"Input Photo\")\n",
    "    ax[i, 1].set_title(\"Monet-esque\")\n",
    "    ax[i, 0].axis(\"off\")\n",
    "    ax[i, 1].axis(\"off\")\n",
    "plt.show()"
   ]
  },
  {
   "cell_type": "markdown",
   "metadata": {
    "papermill": {
     "duration": 0.589149,
     "end_time": "2020-08-29T08:45:21.943852",
     "exception": false,
     "start_time": "2020-08-29T08:45:21.354703",
     "status": "completed"
    },
    "tags": []
   },
   "source": [
    "# Create submission file"
   ]
  },
  {
   "cell_type": "code",
   "execution_count": 24,
   "metadata": {
    "execution": {
     "iopub.execute_input": "2020-08-29T08:45:23.004734Z",
     "iopub.status.busy": "2020-08-29T08:45:23.003732Z",
     "iopub.status.idle": "2020-08-29T08:45:23.794470Z",
     "shell.execute_reply": "2020-08-29T08:45:23.793741Z"
    },
    "papermill": {
     "duration": 1.320397,
     "end_time": "2020-08-29T08:45:23.794591",
     "exception": false,
     "start_time": "2020-08-29T08:45:22.474194",
     "status": "completed"
    },
    "tags": []
   },
   "outputs": [],
   "source": [
    "import PIL\n",
    "! mkdir output_images"
   ]
  },
  {
   "cell_type": "code",
   "execution_count": 25,
   "metadata": {
    "execution": {
     "iopub.execute_input": "2020-08-29T08:45:24.898093Z",
     "iopub.status.busy": "2020-08-29T08:45:24.897216Z",
     "iopub.status.idle": "2020-08-29T09:21:45.221956Z",
     "shell.execute_reply": "2020-08-29T09:21:45.221049Z"
    },
    "papermill": {
     "duration": 2180.855246,
     "end_time": "2020-08-29T09:21:45.222099",
     "exception": false,
     "start_time": "2020-08-29T08:45:24.366853",
     "status": "completed"
    },
    "tags": []
   },
   "outputs": [],
   "source": [
    "i = 1\n",
    "for img in photo_ds:\n",
    "    prediction = monet_generator(img, training=False)[0].numpy()\n",
    "    prediction = (prediction * 127.5 + 127.5).astype(np.uint8)\n",
    "    im = PIL.Image.fromarray(prediction)\n",
    "    im.save(\"output_images/\" + str(i) + \".jpg\")\n",
    "    i += 1"
   ]
  },
  {
   "cell_type": "code",
   "execution_count": null,
   "metadata": {
    "execution": {
     "iopub.execute_input": "2020-08-29T09:21:46.345701Z",
     "iopub.status.busy": "2020-08-29T09:21:46.344786Z",
     "iopub.status.idle": "2020-08-29T09:21:50.874034Z",
     "shell.execute_reply": "2020-08-29T09:21:50.874615Z"
    },
    "papermill": {
     "duration": 5.118423,
     "end_time": "2020-08-29T09:21:50.874795",
     "exception": false,
     "start_time": "2020-08-29T09:21:45.756372",
     "status": "completed"
    },
    "tags": []
   },
   "outputs": [],
   "source": [
    "import shutil\n",
    "shutil.make_archive(\"output_images\", 'zip', \"output_images\")"
   ]
  },
  {
   "cell_type": "code",
   "execution_count": null,
   "metadata": {
    "papermill": {
     "duration": 0.523647,
     "end_time": "2020-08-29T09:21:51.928992",
     "exception": false,
     "start_time": "2020-08-29T09:21:51.405345",
     "status": "completed"
    },
    "tags": []
   },
   "outputs": [],
   "source": []
  }
 ],
 "metadata": {
  "kernelspec": {
   "display_name": "3.10.16",
   "language": "python",
   "name": "python3"
  },
  "language_info": {
   "codemirror_mode": {
    "name": "ipython",
    "version": 3
   },
   "file_extension": ".py",
   "mimetype": "text/x-python",
   "name": "python",
   "nbconvert_exporter": "python",
   "pygments_lexer": "ipython3",
   "version": "3.10.16"
  },
  "papermill": {
   "duration": 3295.767085,
   "end_time": "2020-08-29T09:21:52.609073",
   "environment_variables": {},
   "exception": null,
   "input_path": "__notebook__.ipynb",
   "output_path": "__notebook__.ipynb",
   "parameters": {},
   "start_time": "2020-08-29T08:26:56.841988",
   "version": "2.1.0"
  }
 },
 "nbformat": 4,
 "nbformat_minor": 4
}
